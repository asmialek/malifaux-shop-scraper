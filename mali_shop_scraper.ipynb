{
 "cells": [
  {
   "cell_type": "markdown",
   "metadata": {},
   "source": [
    "# Malifaux Scapper"
   ]
  },
  {
   "cell_type": "markdown",
   "metadata": {},
   "source": [
    "## Initialization"
   ]
  },
  {
   "cell_type": "code",
   "execution_count": 17,
   "metadata": {},
   "outputs": [],
   "source": [
    "import tabulate\n",
    "import requests as r\n",
    "from bs4 import BeautifulSoup as bs\n",
    "from selenium import webdriver\n",
    "from selenium.webdriver.chrome.options import Options\n",
    "from webdriver_manager.chrome import ChromeDriverManager\n",
    "\n",
    "def check_retailer(url, i):\n",
    "    try:\n",
    "        raw_page = r.get(f\"{url}{i}\").content\n",
    "    except:\n",
    "        raw_page = r.get(f\"{url}{i}\", verify=False).content\n",
    "    soup = bs(raw_page, \"html.parser\")\n",
    "    return soup"
   ]
  },
  {
   "cell_type": "markdown",
   "metadata": {},
   "source": [
    "## Functions"
   ]
  },
  {
   "cell_type": "code",
   "execution_count": 18,
   "metadata": {},
   "outputs": [],
   "source": [
    "def find_items(url, range_max, product_tag, name_tag, availability_tag, availability_string):\n",
    "    last_page_contents = None\n",
    "    available_products_list = set()\n",
    "    for i in range(1,range_max):\n",
    "        soup = check_retailer(url, i)\n",
    "        products = soup.find_all(class_=product_tag)\n",
    "        if products == last_page_contents or products == None: break\n",
    "        for product in products:\n",
    "            name = product.find(class_=name_tag).text\n",
    "            # print(name)\n",
    "            try:\n",
    "                availability = availability_string in product.find(class_=availability_tag).text\n",
    "            except AttributeError:\n",
    "                continue\n",
    "            if availability:\n",
    "                available_products_list.add(name.strip())\n",
    "            # print('Page:', i, end='\\r')\n",
    "        last_page_contents = products\n",
    "    return available_products_list"
   ]
  },
  {
   "cell_type": "code",
   "execution_count": 19,
   "metadata": {},
   "outputs": [],
   "source": [
    "def find_items_szopgracz(url, product_tag, name_tag, availability_tag, availability_string):\n",
    "    available_products_list = set()\n",
    "    soup = check_retailer(url, '')\n",
    "    products = soup.find_all(class_=product_tag)\n",
    "    for product in products:\n",
    "        name = product.find(class_=name_tag).text\n",
    "        availability = bool(product.find(class_=availability_tag))\n",
    "        if not availability:\n",
    "            available_products_list.add(name.strip())\n",
    "    return available_products_list"
   ]
  },
  {
   "cell_type": "code",
   "execution_count": 20,
   "metadata": {},
   "outputs": [],
   "source": [
    "def find_items_allegro():\n",
    "    driver = webdriver.Chrome(ChromeDriverManager().install())  \n",
    "    html = driver.page_source\n",
    "    soup = bs(html, \"html.parser\")\n",
    "    product_list = []\n",
    "    for i in range(1,30):\n",
    "        new_products = 0\n",
    "        driver.get(f\"https://allegro.pl/kategoria/bitewne-inne-systemy-6059?string=malifaux&p={i}\")\n",
    "        html = driver.page_source\n",
    "        soup = bs(html, \"html.parser\")\n",
    "        products = soup.find_all(class_='mgn2_14 m9qz_yp meqh_en mpof_z0 mqu1_16 m6ax_n4 mp4t_0 m3h2_0 mryx_0 munh_0 mj7a_4')\n",
    "        for product in products:\n",
    "            name = product.text\n",
    "            if name not in product_list:\n",
    "                # print(name)\n",
    "                product_list.append(name)\n",
    "                new_products += 1\n",
    "        # print('Page:', i, end='\\r')\n",
    "        if new_products == 0: break\n",
    "    \n",
    "    return product_list"
   ]
  },
  {
   "cell_type": "code",
   "execution_count": 21,
   "metadata": {},
   "outputs": [],
   "source": [
    "def used_items_allegro():\n",
    "    driver = webdriver.Chrome(ChromeDriverManager().install())  \n",
    "    html = driver.page_source\n",
    "    soup = bs(html, \"html.parser\")\n",
    "    product_list = []\n",
    "    for i in range(1,30):\n",
    "        new_products = 0\n",
    "        driver.get(f\"https://allegro.pl/listing?string=malifaux&stan=używane\")\n",
    "        html = driver.page_source\n",
    "        soup = bs(html, \"html.parser\")\n",
    "        products = soup.find_all(class_='mgn2_14 m9qz_yp meqh_en mpof_z0 mqu1_16 m6ax_n4 mp4t_0 m3h2_0 mryx_0 munh_0 mj7a_4')\n",
    "        for product in products:\n",
    "            name = product.text\n",
    "            if name not in product_list:\n",
    "                # print(name)\n",
    "                product_list.append(name)\n",
    "                new_products += 1 \n",
    "            product_list.append(name)\n",
    "        # print('Page:', i, end='\\r')\n",
    "        if new_products == 0: break\n",
    "    \n",
    "    return product_list"
   ]
  },
  {
   "cell_type": "code",
   "execution_count": 22,
   "metadata": {},
   "outputs": [],
   "source": [
    "def find_items_levi():\n",
    "    driver = webdriver.Chrome(ChromeDriverManager().install())  \n",
    "    last_page_contents = None\n",
    "    available_products_list = set()\n",
    "    \n",
    "    html = driver.page_source\n",
    "    soup = bs(html, \"html.parser\")\n",
    "    for i in range(1,30):\n",
    "        driver.get(f\"https://levisuel.com/fr/4-malifaux?page={i}\")\n",
    "        html = driver.page_source\n",
    "        soup = bs(html, \"html.parser\")\n",
    "        products = soup.find_all(class_='product-miniature js-product-miniature')\n",
    "        if products == last_page_contents or products == None: break\n",
    "        for product in products:\n",
    "            name = product.find(class_='h3 product-title').text\n",
    "            try:\n",
    "                availability = 'Ajouter' in product.find(class_='add-to-cart').text\n",
    "            except AttributeError:\n",
    "                continue\n",
    "            if availability:\n",
    "                available_products_list.add(name.strip())\n",
    "        # print('Page:', i, end='\\r')\n",
    "    \n",
    "        last_page_contents = products\n",
    "    return available_products_list"
   ]
  },
  {
   "cell_type": "code",
   "execution_count": 23,
   "metadata": {},
   "outputs": [],
   "source": [
    "def find_items_fire():\n",
    "    driver = webdriver.Chrome(ChromeDriverManager().install())  \n",
    "    available_products_list = set()\n",
    "    \n",
    "    html = driver.page_source\n",
    "    soup = bs(html, \"html.parser\")\n",
    "    driver.get(f\"https://www.firestormgames.co.uk/wargames-miniatures/malifaux\")\n",
    "    html = driver.page_source\n",
    "    soup = bs(html, \"html.parser\")\n",
    "    products = soup.find_all(class_='item-inner')\n",
    "    for product in products:\n",
    "        name = product.find(class_='title match-height').text\n",
    "        try:\n",
    "            availability = 'Now' in product.find(class_='banner alert alert-info').text\n",
    "        except AttributeError:\n",
    "            continue\n",
    "        if availability:\n",
    "            available_products_list.add(name.strip())\n",
    "    \n",
    "    return available_products_list"
   ]
  },
  {
   "cell_type": "code",
   "execution_count": 24,
   "metadata": {},
   "outputs": [],
   "source": [
    "def create_shop_dict(allegro=True, abroad=True):\n",
    "    shops_dict = {}\n",
    "\n",
    "    print('\\ngraal')\n",
    "    graal = find_items('https://sklep-graal.pl/pl/c/Malifaux-3rd/474/', 30, 'product-inner-wrap', 'productname', 'addtobasket', 'Do koszyka')\n",
    "    shops_dict['graal'] = graal\n",
    "\n",
    "    print('\\nbolter')\n",
    "    bolter = find_items('https://bolter.pl/pl/c/MALIFAUX-3ed./1211/', 30, 'product-inner-wrap', 'productname', 'addtobasket', 'Do koszyka')\n",
    "    shops_dict['bolter'] = bolter\n",
    "\n",
    "    print('\\nstrefa')\n",
    "    strefamtg = find_items('https://strefamtg.pl/2596-malifaux-3ed?page=', 30, 'product-miniature__container', 'product-miniature__title', 'product-quantities', 'dostępna')\n",
    "    shops_dict['strefa'] = strefamtg\n",
    "\n",
    "    print('\\nszop')\n",
    "    szopgracz = find_items_szopgracz('https://shopgracz.pl/298-malifaux', 'item-product', 'product_name', 's_soon', 'niedostępny')\n",
    "    shops_dict['szop'] = szopgracz\n",
    "\n",
    "    print('\\ngnom')\n",
    "    gnom = find_items('https://gnom-sklep.pl/pl/menu/malifaux-261.html?filter_price=&filter_availability=y?counter=', 10, 'product', 'product__name', 'product__name', '')\n",
    "    shops_dict['gnom'] = gnom\n",
    "\n",
    "    if allegro:\n",
    "        print('\\nallegro')\n",
    "        allegro = find_items_allegro()\n",
    "        shops_dict['allegro'] = allegro\n",
    "\n",
    "    if abroad:\n",
    "        print('\\nlevisuel')\n",
    "        levi = find_items_levi()\n",
    "        shops_dict['levi'] = levi\n",
    "\n",
    "        print('\\nminiatur')\n",
    "        miniatur = find_items('https://www.miniaturicum.de/3rd-Edition?availability=1&seite=', 30, 'productbox-inner', 'productbox-title', 'price-note', '')\n",
    "        shops_dict['miniatur'] = miniatur\n",
    "\n",
    "        print('\\nfirestorm')\n",
    "        firestorm = find_items_fire()\n",
    "        shops_dict['firestorm'] = firestorm\n",
    "    \n",
    "    return shops_dict"
   ]
  },
  {
   "cell_type": "code",
   "execution_count": 25,
   "metadata": {},
   "outputs": [],
   "source": [
    "def generate_table(item_list, shops_dict):\n",
    "    table_rows = []\n",
    "    for item in item_list:\n",
    "        table_row = []\n",
    "        for shop in shops_dict:\n",
    "            for product in shops_dict[shop]:\n",
    "                if item.upper() in product.upper():\n",
    "                    table_row.append('X')\n",
    "                    break\n",
    "            else:\n",
    "                if item == '---------------------':\n",
    "                    table_row.append('-'*len(shop))\n",
    "                else:\n",
    "                    table_row.append('-')\n",
    "        table_rows.append([item.title(), *table_row])\n",
    "    print(tabulate.tabulate(table_rows, headers=['box', *shops_dict.keys()], tablefmt=\"pretty\"))"
   ]
  },
  {
   "cell_type": "code",
   "execution_count": 26,
   "metadata": {},
   "outputs": [],
   "source": [
    "def main(item_list):\n",
    "    shops_dict = create_shop_dict()\n",
    "    generate_table(item_list, shops_dict)"
   ]
  },
  {
   "cell_type": "markdown",
   "metadata": {},
   "source": [
    "## Dictionary generation"
   ]
  },
  {
   "cell_type": "code",
   "execution_count": 27,
   "metadata": {},
   "outputs": [
    {
     "name": "stdout",
     "output_type": "stream",
     "text": [
      "\n",
      "graal\n",
      "\n",
      "bolter\n",
      "\n",
      "strefa\n",
      "\n",
      "szop\n",
      "\n",
      "gnom\n",
      "\n",
      "allegro\n",
      "\n"
     ]
    },
    {
     "name": "stderr",
     "output_type": "stream",
     "text": [
      "[WDM] - ====== WebDriver manager ======\n",
      "[WDM] - Current google-chrome version is 105.0.5195\n",
      "[WDM] - Get LATEST chromedriver version for 105.0.5195 google-chrome\n",
      "[WDM] - Driver [C:\\Users\\asmialek\\.wdm\\drivers\\chromedriver\\win32\\105.0.5195.52\\chromedriver.exe] found in cache\n",
      "C:\\Users\\asmialek\\AppData\\Local\\Temp\\ipykernel_32220\\3558405233.py:2: DeprecationWarning: executable_path has been deprecated, please pass in a Service object\n",
      "  driver = webdriver.Chrome(ChromeDriverManager().install())\n"
     ]
    },
    {
     "name": "stdout",
     "output_type": "stream",
     "text": [
      "\n",
      "levisuel\n",
      "\n"
     ]
    },
    {
     "name": "stderr",
     "output_type": "stream",
     "text": [
      "[WDM] - ====== WebDriver manager ======\n",
      "[WDM] - Current google-chrome version is 105.0.5195\n",
      "[WDM] - Get LATEST chromedriver version for 105.0.5195 google-chrome\n",
      "[WDM] - Driver [C:\\Users\\asmialek\\.wdm\\drivers\\chromedriver\\win32\\105.0.5195.52\\chromedriver.exe] found in cache\n"
     ]
    },
    {
     "name": "stdout",
     "output_type": "stream",
     "text": [
      "\n",
      "miniatur\n",
      "\n",
      "firestorm\n",
      "\n"
     ]
    },
    {
     "name": "stderr",
     "output_type": "stream",
     "text": [
      "[WDM] - ====== WebDriver manager ======\n",
      "[WDM] - Current google-chrome version is 105.0.5195\n",
      "[WDM] - Get LATEST chromedriver version for 105.0.5195 google-chrome\n",
      "[WDM] - Driver [C:\\Users\\asmialek\\.wdm\\drivers\\chromedriver\\win32\\105.0.5195.52\\chromedriver.exe] found in cache\n"
     ]
    }
   ],
   "source": [
    "shops_dict = create_shop_dict()"
   ]
  },
  {
   "cell_type": "code",
   "execution_count": 28,
   "metadata": {},
   "outputs": [
    {
     "name": "stdout",
     "output_type": "stream",
     "text": [
      "graal: 218\n",
      "bolter: 17\n",
      "strefa: 161\n",
      "szop: 15\n",
      "gnom: 37\n",
      "allegro: 211\n",
      "levi: 330\n",
      "miniatur: 210\n",
      "firestorm: 303\n"
     ]
    }
   ],
   "source": [
    "for key in shops_dict:\n",
    "    print(f'{key}: {len(set(shops_dict[key]))}')"
   ]
  },
  {
   "cell_type": "markdown",
   "metadata": {},
   "source": [
    "## Table generation"
   ]
  },
  {
   "cell_type": "code",
   "execution_count": 29,
   "metadata": {},
   "outputs": [
    {
     "name": "stdout",
     "output_type": "stream",
     "text": [
      "+-------------------------+-------+--------+--------+------+------+---------+------+----------+-----------+\n",
      "|           box           | graal | bolter | strefa | szop | gnom | allegro | levi | miniatur | firestorm |\n",
      "+-------------------------+-------+--------+--------+------+------+---------+------+----------+-----------+\n",
      "|      Tara Core Box      |   X   |   -    |   -    |  -   |  -   |    -    |  X   |    X     |     X     |\n",
      "|    Forward And Back     |   -   |   -    |   -    |  -   |  -   |    -    |  -   |    -     |     X     |\n",
      "|  Servants Of The Void   |   -   |   -    |   -    |  -   |  -   |    -    |  -   |    X     |     X     |\n",
      "|       Beyond Time       |   X   |   -    |   X    |  -   |  -   |    X    |  -   |    -     |     X     |\n",
      "|  ---------------------  | ----- | ------ | ------ | ---- | ---- | ------- | ---- | -------- | --------- |\n",
      "|     Kaeris Core Box     |   X   |   -    |   X    |  -   |  -   |    X    |  X   |    -     |     X     |\n",
      "|     Burning Bridges     |   -   |   -    |   -    |  -   |  -   |    -    |  X   |    X     |     X     |\n",
      "|    Mechanical Rider     |   -   |   -    |   X    |  -   |  -   |    X    |  X   |    X     |     X     |\n",
      "|      Center Stage       |   X   |   -    |   -    |  -   |  -   |    -    |  X   |    X     |     X     |\n",
      "| Crack In The Foundation |   -   |   -    |   -    |  -   |  -   |    -    |  X   |    -     |     X     |\n",
      "|    Embrace The Ember    |   X   |   -    |   -    |  -   |  -   |    -    |  X   |    X     |     X     |\n",
      "|  ---------------------  | ----- | ------ | ------ | ---- | ---- | ------- | ---- | -------- | --------- |\n",
      "|  Lady Justice Core Box  |   -   |   -    |   -    |  -   |  X   |    -    |  -   |    X     |     X     |\n",
      "|      Wake The Dead      |   X   |   -    |   -    |  -   |  X   |    -    |  X   |    X     |     X     |\n",
      "|  ---------------------  | ----- | ------ | ------ | ---- | ---- | ------- | ---- | -------- | --------- |\n",
      "|   Von Schill Core Box   |   X   |   -    |   -    |  -   |  -   |    -    |  X   |    X     |     X     |\n",
      "|  Between The Ley Lines  |   -   |   -    |   -    |  -   |  -   |    -    |  X   |    -     |     -     |\n",
      "| Cutting-Edge Technology |   X   |   -    |   X    |  -   |  -   |    X    |  X   |    -     |     X     |\n",
      "|  ---------------------  | ----- | ------ | ------ | ---- | ---- | ------- | ---- | -------- | --------- |\n",
      "|   Leveticus Core Box    |   -   |   -    |   X    |  -   |  -   |    X    |  X   |    -     |     X     |\n",
      "|       Necropunks        |   X   |   -    |   -    |  -   |  -   |    -    |  X   |    X     |     X     |\n",
      "|       Desolation        |   X   |   -    |   X    |  -   |  -   |    X    |  X   |    X     |     X     |\n",
      "|     Ashes And Dust      |   X   |   -    |   -    |  -   |  -   |    -    |  X   |    X     |     X     |\n",
      "|     Marlena Webster     |   -   |   -    |   -    |  -   |  -   |    -    |  X   |    X     |     X     |\n",
      "|  ---------------------  | ----- | ------ | ------ | ---- | ---- | ------- | ---- | -------- | --------- |\n",
      "|    Hoffman Core Box     |   -   |   -    |   -    |  -   |  -   |    -    |  X   |    -     |     X     |\n",
      "|      Support Staff      |   -   |   -    |   -    |  -   |  -   |    -    |  X   |    X     |     X     |\n",
      "|    Keeping The Peace    |   -   |   -    |   X    |  -   |  -   |    X    |  X   |    X     |     X     |\n",
      "|  ---------------------  | ----- | ------ | ------ | ---- | ---- | ------- | ---- | -------- | --------- |\n",
      "|      Intrepid Fate      |   -   |   -    |   -    |  -   |  -   |    -    |  X   |    X     |     X     |\n",
      "|  ---------------------  | ----- | ------ | ------ | ---- | ---- | ------- | ---- | -------- | --------- |\n",
      "|   Ravencroft Core Box   |   -   |   -    |   -    |  -   |  -   |    -    |  -   |    -     |     -     |\n",
      "|      Invisible Ink      |   -   |   -    |   -    |  -   |  -   |    -    |  -   |    -     |     -     |\n",
      "|    Living Soulstones    |   -   |   -    |   -    |  -   |  -   |    -    |  -   |    -     |     -     |\n",
      "|  ---------------------  | ----- | ------ | ------ | ---- | ---- | ------- | ---- | -------- | --------- |\n",
      "|  Lord Cooper Core Box   |   -   |   -    |   -    |  -   |  -   |    -    |  -   |    X     |     X     |\n",
      "+-------------------------+-------+--------+--------+------+------+---------+------+----------+-----------+\n"
     ]
    }
   ],
   "source": [
    "item_list = ['Tara Core Box',\n",
    "             'Forward and Back',\n",
    "             'Servants of the Void',\n",
    "             'Beyond Time',\n",
    "             '---------------------',\n",
    "             'KAERIS CORE BOX',\n",
    "             'BURNING BRIDGES',\n",
    "             'Mechanical Rider',\n",
    "             'Center Stage',\n",
    "             'CRACK IN THE FOUNDATION',\n",
    "             'EMBRACE THE EMBER',\n",
    "             '---------------------',\n",
    "             'LADY JUSTICE CORE BOX',\n",
    "             'WAKE THE DEAD',\n",
    "             '---------------------',\n",
    "             'VON SCHILL CORE BOX',\n",
    "             'BETWEEN THE LEY LINES',\n",
    "             'CUTTING-EDGE TECHNOLOGY',\n",
    "             '---------------------',\n",
    "             'LEVETICUS CORE BOX',\n",
    "             'NECROPUNKS',\n",
    "             'DESOLATION',\n",
    "             'ASHES AND DUST',\n",
    "             'MARLENA WEBSTER',\n",
    "             '---------------------',\n",
    "             'HOFFMAN CORE BOX',\n",
    "             'SUPPORT STAFF',\n",
    "             'KEEPING THE PEACE',\n",
    "             '---------------------',\n",
    "             'Intrepid Fate',\n",
    "             '---------------------',\n",
    "             'Ravencroft Core Box',\n",
    "             'Invisible Ink',\n",
    "             'Living Soulstones',\n",
    "             '---------------------',\n",
    "             'Lord Cooper Core Box',\n",
    "\n",
    "             ]\n",
    "\n",
    "generate_table(item_list, shops_dict)"
   ]
  }
 ],
 "metadata": {
  "interpreter": {
   "hash": "a8b8dafb5d0c1513c46ce2eb15e780d0f172210e62717f28c577fa0c9d25f0f8"
  },
  "kernelspec": {
   "display_name": "Python 3.10.0 64-bit",
   "language": "python",
   "name": "python3"
  },
  "language_info": {
   "codemirror_mode": {
    "name": "ipython",
    "version": 3
   },
   "file_extension": ".py",
   "mimetype": "text/x-python",
   "name": "python",
   "nbconvert_exporter": "python",
   "pygments_lexer": "ipython3",
   "version": "3.10.0"
  },
  "orig_nbformat": 4
 },
 "nbformat": 4,
 "nbformat_minor": 2
}
