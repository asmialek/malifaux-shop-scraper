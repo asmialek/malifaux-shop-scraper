{
 "cells": [
  {
   "cell_type": "markdown",
   "metadata": {},
   "source": [
    "# Malifaux Scapper"
   ]
  },
  {
   "cell_type": "markdown",
   "metadata": {},
   "source": [
    "## Initialization"
   ]
  },
  {
   "cell_type": "code",
   "execution_count": 12,
   "metadata": {},
   "outputs": [],
   "source": [
    "import tabulate\n",
    "import requests as r\n",
    "from bs4 import BeautifulSoup as bs\n",
    "from selenium import webdriver\n",
    "from webdriver_manager.chrome import ChromeDriverManager\n",
    "\n",
    "def check_retailer(url, i):\n",
    "    try:\n",
    "        raw_page = r.get(f\"{url}{i}\").content\n",
    "    except:\n",
    "        raw_page = r.get(f\"{url}{i}\", verify=False).content\n",
    "    soup = bs(raw_page, \"html.parser\")\n",
    "    return soup"
   ]
  },
  {
   "cell_type": "markdown",
   "metadata": {},
   "source": [
    "## Functions"
   ]
  },
  {
   "cell_type": "code",
   "execution_count": 13,
   "metadata": {},
   "outputs": [],
   "source": [
    "def find_items(url, range_max, product_tag, name_tag, availability_tag, availability_string):\n",
    "    last_page_contents = None\n",
    "    available_products_list = set()\n",
    "    for i in range(1,range_max):\n",
    "        soup = check_retailer(url, i)\n",
    "        products = soup.find_all(class_=product_tag)\n",
    "        if products == last_page_contents or products == None: break\n",
    "        for product in products:\n",
    "            name = product.find(class_=name_tag).text\n",
    "            try:\n",
    "                availability = availability_string in product.find(class_=availability_tag).text\n",
    "            except AttributeError:\n",
    "                continue\n",
    "            if availability:\n",
    "                available_products_list.add(name.strip())\n",
    "            print('Page:', i, end='\\r')\n",
    "        last_page_contents = products\n",
    "    return available_products_list"
   ]
  },
  {
   "cell_type": "code",
   "execution_count": 14,
   "metadata": {},
   "outputs": [],
   "source": [
    "def find_items_szopgracz(url, product_tag, name_tag, availability_tag, availability_string):\n",
    "    available_products_list = set()\n",
    "    soup = check_retailer(url, '')\n",
    "    products = soup.find_all(class_=product_tag)\n",
    "    for product in products:\n",
    "        name = product.find(class_=name_tag).text\n",
    "        availability = bool(product.find(class_=availability_tag))\n",
    "        if not availability:\n",
    "            available_products_list.add(name.strip())\n",
    "    return available_products_list"
   ]
  },
  {
   "cell_type": "code",
   "execution_count": 15,
   "metadata": {},
   "outputs": [],
   "source": [
    "def find_items_allegro():\n",
    "    driver = webdriver.Chrome(ChromeDriverManager().install())\n",
    "    driver.get(\"https://allegro.pl/kategoria/bitewne-inne-systemy-6059?string=malifaux&p=1\")\n",
    "    \n",
    "    html = driver.page_source\n",
    "    soup = bs(html, \"html.parser\")\n",
    "    product_list = []\n",
    "    for i in range(1,30):\n",
    "        new_products = 0\n",
    "        driver.get(f\"https://allegro.pl/kategoria/bitewne-inne-systemy-6059?string=malifaux&p={i}\")\n",
    "        html = driver.page_source\n",
    "        soup = bs(html, \"html.parser\")\n",
    "        products = soup.find_all(class_='mgn2_14 m9qz_yp meqh_en mpof_z0 mqu1_16 m6ax_n4 mp4t_0 m3h2_0 mryx_0 munh_0 mj7a_4')\n",
    "        for product in products:\n",
    "            name = product.text\n",
    "            if name not in product_list:\n",
    "                # print(name)\n",
    "                product_list.append(name)\n",
    "                new_products += 1 \n",
    "            product_list.append(name)\n",
    "        print('Page:', i, end='\\r')\n",
    "        if new_products == 0: break\n",
    "    \n",
    "    return product_list"
   ]
  },
  {
   "cell_type": "code",
   "execution_count": 16,
   "metadata": {},
   "outputs": [],
   "source": [
    "def create_shop_dict():\n",
    "    shops_dict = {}\n",
    "\n",
    "    print('\\ngraal')\n",
    "    graal = find_items('https://sklep-graal.pl/pl/c/Malifaux-3rd/474/', 30, 'product-inner-wrap', 'productname', 'addtobasket', 'Do koszyka')\n",
    "    shops_dict['graal'] = graal\n",
    "\n",
    "    print('\\nbolter')\n",
    "    bolter = find_items('https://bolter.pl/pl/c/MALIFAUX-3ed./1211/', 30, 'product-inner-wrap', 'productname', 'addtobasket', 'Do koszyka')\n",
    "    shops_dict['bolter'] = bolter\n",
    "\n",
    "    print('\\nstrefa')\n",
    "    strefamtg = find_items('https://strefamtg.pl/2596-malifaux-3ed?page=', 30, 'product-miniature__container', 'product-miniature__title', 'product-quantities', 'Dostępne')\n",
    "    shops_dict['strefa'] = strefamtg\n",
    "\n",
    "    print('\\nszop')\n",
    "    szopgracz = find_items_szopgracz('https://shopgracz.pl/298-malifaux', 'item-product', 'product_name', 's_soon', 'niedostępny')\n",
    "    shops_dict['szop'] = szopgracz\n",
    "\n",
    "    # print('\\ngnom')\n",
    "    # gnom = find_items('https://gnom-sklep.pl/447-malifaux-3rd-edition?page=', 30, 'product-miniature', 'h3', 'hiaddtocart', 'Dostępny')\n",
    "    # shops_dict['gnom'] = gnom\n",
    "\n",
    "    # print('\\nallegro')\n",
    "    # allegro = find_items_allegro()\n",
    "    # shops_dict['allegro'] = allegro\n",
    "    \n",
    "    return shops_dict"
   ]
  },
  {
   "cell_type": "code",
   "execution_count": 17,
   "metadata": {},
   "outputs": [],
   "source": [
    "def generate_table(item_list, shops_dict):\n",
    "    table_rows = []\n",
    "    for item in item_list:\n",
    "        table_row = []\n",
    "        for shop in shops_dict:\n",
    "            for product in shops_dict[shop]:\n",
    "                if item.upper() in product.upper():\n",
    "                    table_row.append('X')\n",
    "                    break\n",
    "            else:\n",
    "                if item == '---------------------':\n",
    "                    table_row.append('-'*len(shop))\n",
    "                else:\n",
    "                    table_row.append('-')\n",
    "        table_rows.append([item.title(), *table_row])\n",
    "    print(tabulate.tabulate(table_rows, headers=['box', *shops_dict.keys()], tablefmt=\"pretty\"))"
   ]
  },
  {
   "cell_type": "code",
   "execution_count": 18,
   "metadata": {},
   "outputs": [],
   "source": [
    "def main(item_list):\n",
    "    shops_dict = create_shop_dict()\n",
    "    generate_table(item_list, shops_dict)"
   ]
  },
  {
   "cell_type": "markdown",
   "metadata": {},
   "source": [
    "## Dictionary generation"
   ]
  },
  {
   "cell_type": "markdown",
   "metadata": {},
   "source": [
    "## Table generation"
   ]
  },
  {
   "cell_type": "code",
   "execution_count": 19,
   "metadata": {},
   "outputs": [],
   "source": [
    "item_list = ['Tara Core Box',\n",
    "             'Servants of the Void',\n",
    "             'Beyond Time',\n",
    "             '---------------------',\n",
    "             'KAERIS CORE BOX',\n",
    "             'BURNING BRIDGES', \n",
    "             '---------------------',\n",
    "             'LADY JUSTICE CORE BOX',\n",
    "             'WAKE THE DEAD',\n",
    "             '---------------------',\n",
    "             'SONNIA CORE BOX',\n",
    "             'WITCHING HOUR',\n",
    "             '---------------------',\n",
    "             'SANDEEP CORE BOX',\n",
    "             'PEER REVIEW',\n",
    "             '---------------------',\n",
    "             'VON SCHILL CORE BOX',\n",
    "             'BETWEEN THE LEY LINES',\n",
    "             '---------------------',\n",
    "             'Misaki Core Box',\n",
    "             'CRIME SYNDICATE',\n",
    "             'Silent Strike',\n",
    "             'Dawn Serpent',\n",
    "             'Dawn Sepent',\n",
    "             'Kharmic Debt',\n",
    "             'Karmic Debt',\n",
    "             '---------------------',\n",
    "             'ASAMI CORE BOX',\n",
    "             'ANCIENT EVIL',\n",
    "             'Immortal Tricksters',\n",
    "             'Akaname',\n",
    "             '---------------------',\n",
    "             'JEDZA CORE BOX',\n",
    "             'HERE LIES...',\n",
    "             'HERE LIES',\n",
    "             ]"
   ]
  },
  {
   "cell_type": "code",
   "execution_count": 20,
   "metadata": {},
   "outputs": [
    {
     "name": "stdout",
     "output_type": "stream",
     "text": [
      "graal\n",
      "bolter16\n",
      "strefa2\n",
      "szop: 9\n",
      "+-----------------------+-------+--------+--------+------+\n",
      "|          box          | graal | bolter | strefa | szop |\n",
      "+-----------------------+-------+--------+--------+------+\n",
      "|     Tara Core Box     |   -   |   -    |   -    |  -   |\n",
      "| Servants Of The Void  |   -   |   -    |   -    |  -   |\n",
      "|      Beyond Time      |   X   |   -    |   -    |  -   |\n",
      "| --------------------- | ----- | ------ | ------ | ---- |\n",
      "|    Kaeris Core Box    |   X   |   -    |   -    |  -   |\n",
      "|    Burning Bridges    |   X   |   -    |   -    |  -   |\n",
      "| --------------------- | ----- | ------ | ------ | ---- |\n",
      "| Lady Justice Core Box |   -   |   -    |   -    |  -   |\n",
      "|     Wake The Dead     |   -   |   -    |   -    |  -   |\n",
      "| --------------------- | ----- | ------ | ------ | ---- |\n",
      "|    Sonnia Core Box    |   X   |   -    |   -    |  -   |\n",
      "|     Witching Hour     |   X   |   -    |   -    |  -   |\n",
      "| --------------------- | ----- | ------ | ------ | ---- |\n",
      "|   Sandeep Core Box    |   X   |   X    |   -    |  X   |\n",
      "|      Peer Review      |   X   |   -    |   -    |  -   |\n",
      "| --------------------- | ----- | ------ | ------ | ---- |\n",
      "|  Von Schill Core Box  |   -   |   -    |   -    |  -   |\n",
      "| Between The Ley Lines |   X   |   -    |   -    |  -   |\n",
      "| --------------------- | ----- | ------ | ------ | ---- |\n",
      "|    Misaki Core Box    |   X   |   -    |   -    |  -   |\n",
      "|    Crime Syndicate    |   X   |   -    |   -    |  -   |\n",
      "|     Silent Strike     |   X   |   -    |   -    |  -   |\n",
      "|     Dawn Serpent      |   -   |   -    |   -    |  -   |\n",
      "|      Dawn Sepent      |   -   |   -    |   -    |  -   |\n",
      "|     Kharmic Debt      |   -   |   -    |   -    |  -   |\n",
      "|      Karmic Debt      |   -   |   -    |   -    |  -   |\n",
      "| --------------------- | ----- | ------ | ------ | ---- |\n",
      "|    Asami Core Box     |   X   |   X    |   -    |  X   |\n",
      "|     Ancient Evil      |   -   |   -    |   -    |  -   |\n",
      "|  Immortal Tricksters  |   -   |   -    |   -    |  X   |\n",
      "|        Akaname        |   X   |   -    |   -    |  -   |\n",
      "| --------------------- | ----- | ------ | ------ | ---- |\n",
      "|    Jedza Core Box     |   -   |   -    |   -    |  -   |\n",
      "|     Here Lies...      |   -   |   -    |   -    |  -   |\n",
      "|       Here Lies       |   X   |   -    |   -    |  -   |\n",
      "+-----------------------+-------+--------+--------+------+\n"
     ]
    }
   ],
   "source": [
    "main(item_list)"
   ]
  }
 ],
 "metadata": {
  "interpreter": {
   "hash": "a8b8dafb5d0c1513c46ce2eb15e780d0f172210e62717f28c577fa0c9d25f0f8"
  },
  "kernelspec": {
   "display_name": "Python 3.10.0 64-bit",
   "language": "python",
   "name": "python3"
  },
  "language_info": {
   "codemirror_mode": {
    "name": "ipython",
    "version": 3
   },
   "file_extension": ".py",
   "mimetype": "text/x-python",
   "name": "python",
   "nbconvert_exporter": "python",
   "pygments_lexer": "ipython3",
   "version": "3.10.0"
  },
  "orig_nbformat": 4
 },
 "nbformat": 4,
 "nbformat_minor": 2
}
